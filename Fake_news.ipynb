{
  "nbformat": 4,
  "nbformat_minor": 0,
  "metadata": {
    "colab": {
      "provenance": [],
      "gpuType": "T4"
    },
    "kernelspec": {
      "name": "python3",
      "display_name": "Python 3"
    },
    "language_info": {
      "name": "python"
    },
    "accelerator": "GPU"
  },
  "cells": [
    {
      "cell_type": "code",
      "execution_count": null,
      "metadata": {
        "colab": {
          "base_uri": "https://localhost:8080/"
        },
        "id": "jAVfCw5XmO2t",
        "outputId": "0dacec89-edab-4958-e67f-5560f12d6ff3"
      },
      "outputs": [
        {
          "output_type": "stream",
          "name": "stdout",
          "text": [
            "Drive already mounted at /content/drive; to attempt to forcibly remount, call drive.mount(\"/content/drive\", force_remount=True).\n"
          ]
        }
      ],
      "source": [
        "from  google.colab import drive\n",
        "drive.mount('/content/drive')"
      ]
    },
    {
      "cell_type": "code",
      "source": [
        "import numpy as np\n",
        "import pandas as pd\n",
        "import re\n",
        "import nltk\n",
        "import joblib\n",
        "import matplotlib.pyplot as plt\n",
        "\n",
        "from sklearn.model_selection import train_test_split\n",
        "from sklearn.naive_bayes import MultinomialNB\n",
        "from sklearn.metrics import accuracy_score, classification_report\n",
        "from sklearn.feature_extraction.text import TfidfVectorizer\n",
        "from nltk.corpus import stopwords\n"
      ],
      "metadata": {
        "id": "YNsBAUGamxlv"
      },
      "execution_count": null,
      "outputs": []
    },
    {
      "cell_type": "code",
      "source": [
        "true_path = '/content/drive/MyDrive/News _dataset/True.csv'\n",
        "fake_path = '/content/drive/MyDrive/News _dataset/Fake.csv'\n",
        "\n",
        "df_true = pd.read_csv(true_path)\n",
        "df_fake = pd.read_csv(fake_path)\n",
        "\n",
        "df_true['label'] = 1  # True news = 1\n",
        "df_fake['label'] = 0  # Fake news = 0\n",
        "\n",
        "data = pd.concat([df_true, df_fake], ignore_index=True)\n"
      ],
      "metadata": {
        "id": "Jy-BPafGnvjp"
      },
      "execution_count": null,
      "outputs": []
    },
    {
      "cell_type": "code",
      "source": [
        "nltk.download('stopwords')\n",
        "stop_words = set(stopwords.words('english'))\n",
        "\n",
        "def clean_text(text):\n",
        "    text = re.sub(r'[^\\w\\s]', '', text)  # Remove punctuation\n",
        "    text = re.sub(r'\\d+', '', text)      # Remove digits\n",
        "    text = text.lower()                  # Lowercase\n",
        "    text = ' '.join([word for word in text.split() if word not in stop_words])\n",
        "    return text\n",
        "\n",
        "data['text'] = data['text'].apply(clean_text)\n"
      ],
      "metadata": {
        "colab": {
          "base_uri": "https://localhost:8080/"
        },
        "id": "SditsToRokQS",
        "outputId": "7e12d469-89cc-4502-b67b-fd04987b8887"
      },
      "execution_count": null,
      "outputs": [
        {
          "output_type": "stream",
          "name": "stderr",
          "text": [
            "[nltk_data] Downloading package stopwords to /root/nltk_data...\n",
            "[nltk_data]   Unzipping corpora/stopwords.zip.\n"
          ]
        }
      ]
    },
    {
      "cell_type": "code",
      "source": [
        "import os\n",
        "\n",
        "# Create directory if it doesn't exist\n",
        "os.makedirs('/content/drive/MyDrive/fake_news_model', exist_ok=True)\n",
        "\n",
        "# Now save\n",
        "joblib.dump(vectorizer, '/content/drive/MyDrive/fake_news_model/vectorizer.pkl')\n"
      ],
      "metadata": {
        "colab": {
          "base_uri": "https://localhost:8080/"
        },
        "id": "JMEiuq7gpFVn",
        "outputId": "9699580e-c383-4a4a-a419-f3f28f947d98"
      },
      "execution_count": null,
      "outputs": [
        {
          "output_type": "execute_result",
          "data": {
            "text/plain": [
              "['/content/drive/MyDrive/fake_news_model/vectorizer.pkl']"
            ]
          },
          "metadata": {},
          "execution_count": 7
        }
      ]
    },
    {
      "cell_type": "code",
      "source": [
        "X = data['text']\n",
        "y = data['label']\n",
        "\n",
        "X_train, X_test, y_train, y_test = train_test_split(X, y, test_size=0.2, random_state=42)\n",
        "\n",
        "vectorizer = TfidfVectorizer(max_features=5000)\n",
        "X_train_vec = vectorizer.fit_transform(X_train)\n",
        "X_test_vec = vectorizer.transform(X_test)\n",
        "\n",
        "# Save vectorizer\n",
        "joblib.dump(vectorizer, '/content/drive/MyDrive/fake_news_model/vectorizer.pkl')\n"
      ],
      "metadata": {
        "colab": {
          "base_uri": "https://localhost:8080/"
        },
        "id": "zUDzX2RgosQv",
        "outputId": "e782f836-6edc-4f6d-e14e-379e4ee8a824"
      },
      "execution_count": null,
      "outputs": [
        {
          "output_type": "execute_result",
          "data": {
            "text/plain": [
              "['/content/drive/MyDrive/fake_news_model/vectorizer.pkl']"
            ]
          },
          "metadata": {},
          "execution_count": 8
        }
      ]
    },
    {
      "cell_type": "code",
      "source": [
        "model = MultinomialNB()\n",
        "model.fit(X_train_vec, y_train)\n",
        "\n",
        "# Save model\n",
        "joblib.dump(model, '/content/drive/MyDrive/fake_news_model/nb_model.pkl')\n"
      ],
      "metadata": {
        "colab": {
          "base_uri": "https://localhost:8080/"
        },
        "id": "RA_bSsm2owkn",
        "outputId": "8bfafec5-feb9-4485-c874-796813a7e8d3"
      },
      "execution_count": null,
      "outputs": [
        {
          "output_type": "execute_result",
          "data": {
            "text/plain": [
              "['/content/drive/MyDrive/fake_news_model/nb_model.pkl']"
            ]
          },
          "metadata": {},
          "execution_count": 9
        }
      ]
    },
    {
      "cell_type": "code",
      "source": [
        "predictions = model.predict(X_test_vec)\n",
        "\n",
        "print(f\"Accuracy: {accuracy_score(y_test, predictions):.2f}\")\n",
        "print(\"Classification Report:\\n\", classification_report(y_test, predictions))\n"
      ],
      "metadata": {
        "colab": {
          "base_uri": "https://localhost:8080/"
        },
        "id": "rq0DH6_6o5OA",
        "outputId": "ba0268ff-6857-4428-882e-dc20099ee293"
      },
      "execution_count": null,
      "outputs": [
        {
          "output_type": "stream",
          "name": "stdout",
          "text": [
            "Accuracy: 0.94\n",
            "Classification Report:\n",
            "               precision    recall  f1-score   support\n",
            "\n",
            "           0       0.94      0.94      0.94      4650\n",
            "           1       0.94      0.94      0.94      4330\n",
            "\n",
            "    accuracy                           0.94      8980\n",
            "   macro avg       0.94      0.94      0.94      8980\n",
            "weighted avg       0.94      0.94      0.94      8980\n",
            "\n"
          ]
        }
      ]
    },
    {
      "cell_type": "code",
      "source": [
        "import joblib\n",
        "\n",
        "# Load vectorizer and model\n",
        "vectorizer = joblib.load('/content/drive/MyDrive/fake_news_model/vectorizer.pkl')\n",
        "model = joblib.load('/content/drive/MyDrive/fake_news_model/nb_model.pkl')\n"
      ],
      "metadata": {
        "id": "jP_QRhGxpZ-Q"
      },
      "execution_count": null,
      "outputs": []
    },
    {
      "cell_type": "code",
      "source": [
        "import re\n",
        "import nltk\n",
        "from nltk.corpus import stopwords\n",
        "\n",
        "nltk.download('stopwords')\n",
        "stop_words = set(stopwords.words('english'))\n",
        "\n",
        "def clean_text(text):\n",
        "    text = re.sub(r'[^\\w\\s]', '', text)\n",
        "    text = re.sub(r'\\d+', '', text)\n",
        "    text = text.lower()\n",
        "    text = ' '.join([word for word in text.split() if word not in stop_words])\n",
        "    return text\n"
      ],
      "metadata": {
        "colab": {
          "base_uri": "https://localhost:8080/"
        },
        "id": "Kre-oNIKpbiZ",
        "outputId": "411d965a-eed3-45c2-ae6b-d22435f2df32"
      },
      "execution_count": null,
      "outputs": [
        {
          "output_type": "stream",
          "name": "stderr",
          "text": [
            "[nltk_data] Downloading package stopwords to /root/nltk_data...\n",
            "[nltk_data]   Package stopwords is already up-to-date!\n"
          ]
        }
      ]
    },
    {
      "cell_type": "code",
      "source": [
        "# Custom article to test\n",
        "sample_news = [\n",
        "    \"\"\"Donald Trump just couldn’t wish all Americans a Happy New Year and leave it at that. Instead, he had to give a shout out to his enemies, haters and the very dishonest fake news media...\n",
        "\n",
        "    [FULL ARTICLE TEXT]\n",
        "\n",
        "    Photo by Andrew Burton/Getty Images.\"\"\"\n",
        "]\n",
        "\n",
        "# Clean and vectorize\n",
        "cleaned_samples = [clean_text(news) for news in sample_news]\n",
        "vectorized_samples = vectorizer.transform(cleaned_samples)\n",
        "\n",
        "# Predict\n",
        "predictions = model.predict(vectorized_samples)\n",
        "\n",
        "# Output result\n",
        "for text, label in zip(sample_news, predictions):\n",
        "    print(\"\\nNews Article:\")\n",
        "    print(text[:500], \"...\" if len(text) > 500 else \"\")  # Show first 500 characters\n",
        "    print(\"Prediction:\", \"✅ Real\" if label == 1 else \"❌ Fake\")\n",
        "\n"
      ],
      "metadata": {
        "colab": {
          "base_uri": "https://localhost:8080/"
        },
        "id": "OJDXxF6SphQv",
        "outputId": "56800b2c-1299-4d6a-bf8b-8b4e04b5e99b"
      },
      "execution_count": null,
      "outputs": [
        {
          "output_type": "stream",
          "name": "stdout",
          "text": [
            "\n",
            "News Article:\n",
            "Donald Trump just couldn’t wish all Americans a Happy New Year and leave it at that. Instead, he had to give a shout out to his enemies, haters and the very dishonest fake news media...\n",
            "\n",
            "    [FULL ARTICLE TEXT]\n",
            "    \n",
            "    Photo by Andrew Burton/Getty Images. \n",
            "Prediction: ❌ Fake\n"
          ]
        }
      ]
    },
    {
      "cell_type": "code",
      "source": [
        "# Custom article to test\n",
        "sample_news = [\n",
        "    \"\"\"Donald Trump just couldn’t wish all Americans a Happy New Year and leave it at that. Instead, he had to give a shout out to his enemies, haters and the very dishonest fake news media...\n",
        "\n",
        "    [FULL ARTICLE TEXT]\n",
        "\n",
        "    Photo by Andrew Burton/Getty Images.\"\"\"\n",
        "]\n",
        "\n",
        "# Clean and vectorize\n",
        "cleaned_samples = [clean_text(news) for news in sample_news]\n",
        "vectorized_samples = vectorizer.transform(cleaned_samples)\n",
        "\n",
        "# Predict\n",
        "predictions = model.predict(vectorized_samples)\n",
        "\n",
        "# Output result\n",
        "for text, label in zip(sample_news, predictions):\n",
        "    print(\"\\nNews Article:\")\n",
        "    print(text[:500], \"...\" if len(text) > 500 else \"\")  # Show first 500 characters\n",
        "    print(\"Prediction:\", \"✅ Real\" if label == 1 else \"❌ Fake\")"
      ],
      "metadata": {
        "id": "lXQ63Pkgqd_X"
      },
      "execution_count": null,
      "outputs": []
    },
    {
      "cell_type": "code",
      "source": [
        "# Custom article to test\n",
        "sample_news = [\n",
        "    \"\"\"WEST PALM BEACH, Fla (Reuters) - President Donald Trump said on Thursday he believes he will be fairly treated in a special counsel investigation into Russian meddling in the U.S. presidential election, but said he did not know how long the probe would last. The federal investigation has hung over Trump’s White House since he took office almost a year ago, and some Trump allies have in recent weeks accused the team of Justice Department Special Counsel Robert Mueller of being biased against the Republican president. But in an interview with the New York Times, Trump appeared to shrug off concerns about the investigation, which was prompted by U.S. intelligence agencies’ conclusion that Russia tried to help Trump defeat Democrat Hillary Clinton by hacking and releasing embarrassing emails and disseminating propaganda...\n",
        "\n",
        "    [Rest of article text here if needed]\n",
        "    \"\"\"\n",
        "]\n",
        "\n",
        "# Clean and vectorize\n",
        "cleaned_samples = [clean_text(news) for news in sample_news]\n",
        "vectorized_samples = vectorizer.transform(cleaned_samples)\n",
        "\n",
        "# Predict\n",
        "predictions = model.predict(vectorized_samples)\n",
        "\n",
        "# Output result\n",
        "for text, label in zip(sample_news, predictions):\n",
        "    print(\"\\nNews Article:\")\n",
        "    print(text[:500], \"...\" if len(text) > 500 else \"\")  # Preview first 500 characters\n",
        "    print(\"Prediction:\", \"✅ Real\" if label == 1 else \"❌ Fake\")\n"
      ],
      "metadata": {
        "colab": {
          "base_uri": "https://localhost:8080/"
        },
        "id": "FG8C2fpQq-NG",
        "outputId": "88d8cd8c-7f85-4520-dfe6-37871fe6df92"
      },
      "execution_count": null,
      "outputs": [
        {
          "output_type": "stream",
          "name": "stdout",
          "text": [
            "\n",
            "News Article:\n",
            "WEST PALM BEACH, Fla (Reuters) - President Donald Trump said on Thursday he believes he will be fairly treated in a special counsel investigation into Russian meddling in the U.S. presidential election, but said he did not know how long the probe would last. The federal investigation has hung over Trump’s White House since he took office almost a year ago, and some Trump allies have in recent weeks accused the team of Justice Department Special Counsel Robert Mueller of being biased against the  ...\n",
            "Prediction: ✅ Real\n"
          ]
        }
      ]
    },
    {
      "cell_type": "code",
      "source": [
        "import matplotlib.pyplot as plt\n",
        "import seaborn as sns\n",
        "from sklearn.metrics import confusion_matrix, accuracy_score, precision_score, recall_score, f1_score, classification_report\n",
        "\n",
        "# Predict again to be sure\n",
        "predictions = model.predict(X_test_vec)\n",
        "\n",
        "# Accuracy, Precision, Recall, F1\n",
        "acc = accuracy_score(y_test, predictions)\n",
        "prec = precision_score(y_test, predictions)\n",
        "rec = recall_score(y_test, predictions)\n",
        "f1 = f1_score(y_test, predictions)\n",
        "\n",
        "# Print Metrics\n",
        "print(f\"Accuracy:  {acc:.2f}\")\n",
        "print(f\"Precision: {prec:.2f}\")\n",
        "print(f\"Recall:    {rec:.2f}\")\n",
        "print(f\"F1 Score:  {f1:.2f}\")\n",
        "print(\"\\nClassification Report:\\n\", classification_report(y_test, predictions))\n",
        "\n",
        "# 📊 Confusion Matrix\n",
        "cm = confusion_matrix(y_test, predictions)\n",
        "plt.figure(figsize=(6,4))\n",
        "sns.heatmap(cm, annot=True, fmt='d', cmap='Blues', xticklabels=[\"Fake\", \"Real\"], yticklabels=[\"Fake\", \"Real\"])\n",
        "plt.xlabel('Predicted Label')\n",
        "plt.ylabel('True Label')\n",
        "plt.title('Confusion Matrix')\n",
        "plt.show()\n",
        "\n",
        "# 📈 Bar Graphs of Metrics\n",
        "metrics = ['Accuracy', 'Precision', 'Recall', 'F1 Score']\n",
        "values = [acc, prec, rec, f1]\n",
        "\n",
        "plt.figure(figsize=(8,5))\n",
        "sns.barplot(x=metrics, y=values, palette='viridis')\n",
        "plt.ylim(0, 1)\n",
        "plt.title('Model Performance Metrics')\n",
        "for i, v in enumerate(values):\n",
        "    plt.text(i, v + 0.02, f\"{v:.2f}\", ha='center', fontweight='bold')\n",
        "plt.show()\n"
      ],
      "metadata": {
        "colab": {
          "base_uri": "https://localhost:8080/",
          "height": 1000
        },
        "id": "H77Fs39Fq_0_",
        "outputId": "1fbd4b39-011c-4b93-e156-6529959358a6"
      },
      "execution_count": null,
      "outputs": [
        {
          "output_type": "stream",
          "name": "stdout",
          "text": [
            "Accuracy:  0.94\n",
            "Precision: 0.94\n",
            "Recall:    0.94\n",
            "F1 Score:  0.94\n",
            "\n",
            "Classification Report:\n",
            "               precision    recall  f1-score   support\n",
            "\n",
            "           0       0.94      0.94      0.94      4650\n",
            "           1       0.94      0.94      0.94      4330\n",
            "\n",
            "    accuracy                           0.94      8980\n",
            "   macro avg       0.94      0.94      0.94      8980\n",
            "weighted avg       0.94      0.94      0.94      8980\n",
            "\n"
          ]
        },
        {
          "output_type": "display_data",
          "data": {
            "text/plain": [
              "<Figure size 600x400 with 2 Axes>"
            ],
            "image/png": "[encoded data removed]"
          },
          "metadata": {}
        },
        {
          "output_type": "stream",
          "name": "stderr",
          "text": [
            "<ipython-input-16-7fe6b539ba3d>:35: FutureWarning: \n",
            "\n",
            "Passing `palette` without assigning `hue` is deprecated and will be removed in v0.14.0. Assign the `x` variable to `hue` and set `legend=False` for the same effect.\n",
            "\n",
            "  sns.barplot(x=metrics, y=values, palette='viridis')\n"
          ]
        },
        {
          "output_type": "display_data",
          "data": {
            "text/plain": [
              "<Figure size 800x500 with 1 Axes>"
            ],
            "image/png": "[encoded data removed]"
          },
          "metadata": {}
        }
      ]
    },
    {
      "cell_type": "code",
      "source": [
        "import joblib\n",
        "\n",
        "# Save the trained model\n",
        "joblib.dump(model, '/content/drive/MyDrive/fake_news_model/fake_news_model.pkl')\n",
        "\n",
        "# Save the vectorizer\n",
        "joblib.dump(vectorizer, '/content/drive/MyDrive/fake_news_model/vectorizer.pkl')\n",
        "\n",
        "print(\"Model and Vectorizer saved successfully!\")\n"
      ],
      "metadata": {
        "colab": {
          "base_uri": "https://localhost:8080/"
        },
        "id": "kHnYLkwErgEv",
        "outputId": "3d7e9214-09f5-4b5d-ecce-de4500cc2a64"
      },
      "execution_count": null,
      "outputs": [
        {
          "output_type": "stream",
          "name": "stdout",
          "text": [
            "Model and Vectorizer saved successfully!\n"
          ]
        }
      ]
    },
    {
      "cell_type": "code",
      "source": [
        "import joblib\n",
        "\n",
        "# Save the trained model\n",
        "model_path = '/content/drive/MyDrive/fake_news_model/fake_news_model.pkl'\n",
        "joblib.dump(model, model_path)\n",
        "\n",
        "# Save the vectorizer\n",
        "vectorizer_path = '/content/drive/MyDrive/fake_news_model/vectorizer.pkl'\n",
        "joblib.dump(vectorizer, vectorizer_path)\n",
        "\n",
        "print(\"Model and Vectorizer saved successfully!\")\n"
      ],
      "metadata": {
        "id": "x8uMtzlnrs2n",
        "outputId": "625ea2e9-98d9-455c-9234-ffe9e386726c",
        "colab": {
          "base_uri": "https://localhost:8080/"
        }
      },
      "execution_count": null,
      "outputs": [
        {
          "output_type": "stream",
          "name": "stdout",
          "text": [
            "Model and Vectorizer saved successfully!\n"
          ]
        }
      ]
    },
    {
      "cell_type": "code",
      "source": [
        "from google.colab import files\n",
        "\n",
        "# Download the model\n",
        "files.download(model_path)\n",
        "\n",
        "# Download the vectorizer\n",
        "files.download(vectorizer_path)\n"
      ],
      "metadata": {
        "colab": {
          "base_uri": "https://localhost:8080/",
          "height": 17
        },
        "id": "TiT4QRqqrp-g",
        "outputId": "a404a163-b65b-440e-bb37-b17ef7783351"
      },
      "execution_count": null,
      "outputs": [
        {
          "output_type": "display_data",
          "data": {
            "text/plain": [
              "<IPython.core.display.Javascript object>"
            ],
            "application/javascript": [
              "\n",
              "    async function download(id, filename, size) {\n",
              "      if (!google.colab.kernel.accessAllowed) {\n",
              "        return;\n",
              "      }\n",
              "      const div = document.createElement('div');\n",
              "      const label = document.createElement('label');\n",
              "      label.textContent = `Downloading \"${filename}\": `;\n",
              "      div.appendChild(label);\n",
              "      const progress = document.createElement('progress');\n",
              "      progress.max = size;\n",
              "      div.appendChild(progress);\n",
              "      document.body.appendChild(div);\n",
              "\n",
              "      const buffers = [];\n",
              "      let downloaded = 0;\n",
              "\n",
              "      const channel = await google.colab.kernel.comms.open(id);\n",
              "      // Send a message to notify the kernel that we're ready.\n",
              "      channel.send({})\n",
              "\n",
              "      for await (const message of channel.messages) {\n",
              "        // Send a message to notify the kernel that we're ready.\n",
              "        channel.send({})\n",
              "        if (message.buffers) {\n",
              "          for (const buffer of message.buffers) {\n",
              "            buffers.push(buffer);\n",
              "            downloaded += buffer.byteLength;\n",
              "            progress.value = downloaded;\n",
              "          }\n",
              "        }\n",
              "      }\n",
              "      const blob = new Blob(buffers, {type: 'application/binary'});\n",
              "      const a = document.createElement('a');\n",
              "      a.href = window.URL.createObjectURL(blob);\n",
              "      a.download = filename;\n",
              "      div.appendChild(a);\n",
              "      a.click();\n",
              "      div.remove();\n",
              "    }\n",
              "  "
            ]
          },
          "metadata": {}
        },
        {
          "output_type": "display_data",
          "data": {
            "text/plain": [
              "<IPython.core.display.Javascript object>"
            ],
            "application/javascript": [
              "download(\"download_dd1cf718-7a41-4bca-9756-f7fc9d4525c5\", \"fake_news_model.pkl\", 160791)"
            ]
          },
          "metadata": {}
        },
        {
          "output_type": "display_data",
          "data": {
            "text/plain": [
              "<IPython.core.display.Javascript object>"
            ],
            "application/javascript": [
              "\n",
              "    async function download(id, filename, size) {\n",
              "      if (!google.colab.kernel.accessAllowed) {\n",
              "        return;\n",
              "      }\n",
              "      const div = document.createElement('div');\n",
              "      const label = document.createElement('label');\n",
              "      label.textContent = `Downloading \"${filename}\": `;\n",
              "      div.appendChild(label);\n",
              "      const progress = document.createElement('progress');\n",
              "      progress.max = size;\n",
              "      div.appendChild(progress);\n",
              "      document.body.appendChild(div);\n",
              "\n",
              "      const buffers = [];\n",
              "      let downloaded = 0;\n",
              "\n",
              "      const channel = await google.colab.kernel.comms.open(id);\n",
              "      // Send a message to notify the kernel that we're ready.\n",
              "      channel.send({})\n",
              "\n",
              "      for await (const message of channel.messages) {\n",
              "        // Send a message to notify the kernel that we're ready.\n",
              "        channel.send({})\n",
              "        if (message.buffers) {\n",
              "          for (const buffer of message.buffers) {\n",
              "            buffers.push(buffer);\n",
              "            downloaded += buffer.byteLength;\n",
              "            progress.value = downloaded;\n",
              "          }\n",
              "        }\n",
              "      }\n",
              "      const blob = new Blob(buffers, {type: 'application/binary'});\n",
              "      const a = document.createElement('a');\n",
              "      a.href = window.URL.createObjectURL(blob);\n",
              "      a.download = filename;\n",
              "      div.appendChild(a);\n",
              "      a.click();\n",
              "      div.remove();\n",
              "    }\n",
              "  "
            ]
          },
          "metadata": {}
        },
        {
          "output_type": "display_data",
          "data": {
            "text/plain": [
              "<IPython.core.display.Javascript object>"
            ],
            "application/javascript": [
              "download(\"download_515ecedb-096f-476d-b189-0778fec428a5\", \"vectorizer.pkl\", 185132)"
            ]
          },
          "metadata": {}
        }
      ]
    }
  ]
}